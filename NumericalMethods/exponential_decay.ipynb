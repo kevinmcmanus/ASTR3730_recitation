{
 "cells": [
  {
   "cell_type": "markdown",
   "metadata": {},
   "source": [
    "# Exponential Decay"
   ]
  },
  {
   "cell_type": "markdown",
   "metadata": {},
   "source": [
    "$$\n",
    "\\begin{align}\n",
    "\\frac {dY}{dt} &= -\\lambda Y \\\\\n",
    "dy &= -\\lambda Y dt \\\\\n",
    "\\frac {dY}{Y} &= -\\lambda dt\n",
    "\\end {align}\n",
    "$$\n",
    "\n",
    "Integrate both sides to get:\n",
    "$$\n",
    "\\begin{align}\n",
    "ln(Y(t)) &= -\\lambda t + C \\\\\n",
    "Y(t) &= e^{-\\lambda t}e^C\n",
    "\\end{align}\n",
    "$$\n",
    "\n",
    "At $t=0$, $Y=Y_0$, so $e^C = Y_0$. Substituting, the equation above becomes:\n",
    "\n",
    "$$\n",
    "Y(t) = Y_0 e^{-\\lambda t}\n",
    "$$\n",
    "\n",
    "Let's compare the above result with what we get from `scipy.integrate.solve_ivp`"
   ]
  },
  {
   "cell_type": "code",
   "execution_count": 2,
   "metadata": {},
   "outputs": [],
   "source": [
    "import numpy as np\n",
    "from scipy.integrate import solve_ivp "
   ]
  },
  {
   "cell_type": "code",
   "execution_count": 3,
   "metadata": {},
   "outputs": [],
   "source": [
    "def exponential_decay(t,y, lmbda):\n",
    "    return -lmbda*y"
   ]
  },
  {
   "cell_type": "code",
   "execution_count": 4,
   "metadata": {},
   "outputs": [],
   "source": [
    "#integrate to get the solution over a range:\n",
    "t_rng = [0,10]\n",
    "lmbda = 0.5\n",
    "Y_0 = 2.0\n",
    "\n",
    "sol = solve_ivp(exponential_decay, t_rng, [Y_0],args=[lmbda],t_eval=np.arange(10))"
   ]
  },
  {
   "cell_type": "code",
   "execution_count": 5,
   "metadata": {},
   "outputs": [
    {
     "data": {
      "text/plain": [
       "array([0, 1, 2, 3, 4, 5, 6, 7, 8, 9])"
      ]
     },
     "execution_count": 5,
     "metadata": {},
     "output_type": "execute_result"
    }
   ],
   "source": [
    "sol.t"
   ]
  },
  {
   "cell_type": "code",
   "execution_count": 6,
   "metadata": {},
   "outputs": [
    {
     "data": {
      "text/plain": [
       "array([[2.        , 1.21305368, 0.73534013, 0.44651426, 0.2706912 ,\n",
       "        0.16433318, 0.09965105, 0.06047056, 0.03669163, 0.02225507]])"
      ]
     },
     "execution_count": 6,
     "metadata": {},
     "output_type": "execute_result"
    }
   ],
   "source": [
    "sol.y"
   ]
  },
  {
   "cell_type": "code",
   "execution_count": 7,
   "metadata": {},
   "outputs": [],
   "source": [
    "#calculate Y by hand using the t values returned from the integrator\n",
    "t = sol.t\n",
    "Y = Y_0 *np.exp(-lmbda*t)"
   ]
  },
  {
   "cell_type": "code",
   "execution_count": 8,
   "metadata": {},
   "outputs": [
    {
     "name": "stdout",
     "output_type": "stream",
     "text": [
      "[2.         1.21306132 0.73575888 0.44626032 0.27067057 0.16417\n",
      " 0.09957414 0.06039477 0.03663128 0.02221799]\n",
      "[[2.         1.21305368 0.73534013 0.44651426 0.2706912  0.16433318\n",
      "  0.09965105 0.06047056 0.03669163 0.02225507]]\n"
     ]
    }
   ],
   "source": [
    "print(Y)\n",
    "print( sol.y)"
   ]
  },
  {
   "cell_type": "code",
   "execution_count": 9,
   "metadata": {},
   "outputs": [
    {
     "data": {
      "text/plain": [
       "False"
      ]
     },
     "execution_count": 9,
     "metadata": {},
     "output_type": "execute_result"
    }
   ],
   "source": [
    "np.allclose (Y , sol.y)"
   ]
  },
  {
   "cell_type": "markdown",
   "metadata": {},
   "source": [
    "The results are the same to within 4 significant digits; probably messing around with tolerance parameters in the solver could get them to be closer -- but good enough for the time being!!"
   ]
  },
  {
   "cell_type": "code",
   "execution_count": 18,
   "metadata": {},
   "outputs": [],
   "source": [
    "def exponential_decay_2d(t, y, lmbdas):\n",
    "    Y = np.zeros_like(y)\n",
    "    for i in range(len(Y)):\n",
    "        Y[i] = -1*lmbdas[i]*y[i]\n",
    "    return Y"
   ]
  },
  {
   "cell_type": "code",
   "execution_count": 19,
   "metadata": {},
   "outputs": [],
   "source": [
    "lmbdas = np.array([0.7, 0.5])\n",
    "Y_0 = np.array([4,3])\n",
    "t_span = [0,10]\n",
    "t_eval = np.arange(10)\n",
    "\n",
    "sol = solve_ivp(exponential_decay_2d, t_span, Y_0, args=[lmbdas], t_eval=t_eval)"
   ]
  },
  {
   "cell_type": "code",
   "execution_count": 20,
   "metadata": {},
   "outputs": [
    {
     "data": {
      "text/plain": [
       "array([0, 1, 2, 3, 4, 5, 6, 7, 8, 9])"
      ]
     },
     "execution_count": 20,
     "metadata": {},
     "output_type": "execute_result"
    }
   ],
   "source": [
    "sol.t"
   ]
  },
  {
   "cell_type": "code",
   "execution_count": 22,
   "metadata": {},
   "outputs": [
    {
     "data": {
      "text/plain": [
       "array([[4.        , 1.98638957, 0.98585099, 0.49002117, 0.24365827,\n",
       "        0.12102913, 0.0600915 , 0.02986639, 0.01485104, 0.00737624],\n",
       "       [3.        , 1.81959218, 1.10355136, 0.66939535, 0.40606872,\n",
       "        0.24629844, 0.14938187, 0.09061181, 0.05496707, 0.03333965]])"
      ]
     },
     "execution_count": 22,
     "metadata": {},
     "output_type": "execute_result"
    }
   ],
   "source": [
    "sol.y"
   ]
  },
  {
   "cell_type": "code",
   "execution_count": null,
   "metadata": {},
   "outputs": [],
   "source": []
  }
 ],
 "metadata": {
  "interpreter": {
   "hash": "18eb213c7c5d807b1230f6341ec30d93e318b94b9dc2fcb41e572e0af46193cc"
  },
  "kernelspec": {
   "display_name": "Python 3",
   "language": "python",
   "name": "python3"
  },
  "language_info": {
   "codemirror_mode": {
    "name": "ipython",
    "version": 3
   },
   "file_extension": ".py",
   "mimetype": "text/x-python",
   "name": "python",
   "nbconvert_exporter": "python",
   "pygments_lexer": "ipython3",
   "version": "3.8.8"
  }
 },
 "nbformat": 4,
 "nbformat_minor": 4
}
