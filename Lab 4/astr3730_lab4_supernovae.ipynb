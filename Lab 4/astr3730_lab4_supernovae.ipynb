{
 "cells": [
  {
   "cell_type": "code",
   "execution_count": null,
   "metadata": {
    "scrolled": false
   },
   "outputs": [],
   "source": [
    "# import modules\n",
    "%matplotlib inline\n",
    "import matplotlib.pyplot as plt\n",
    "import numpy as np\n",
    "from astropy.table import Table"
   ]
  },
  {
   "cell_type": "markdown",
   "metadata": {},
   "source": [
    "# Lab 4 -- physics of supernova light curves\n",
    "In this lab we will use a simple analytic model to understand the optical light curves of supernova and other explosive, stellar transients.\n",
    "\n",
    "As discussed in the pre-lab video, in a simple model the luminosity as a function of time L(t) of an expanding supernova (with $R(t) = vt$ for constant expansion velocity $v$) can be written,\n",
    "\n",
    "$$\\left(\\frac{d}{dt}+\\frac{t}{t_d^2} \\right) L(t) = Q(t)$$\n",
    "\n",
    "where $Q(t)$ is the heating from any internal source of energy generation (for example, an initial explosion energy or radioactive decay) and\n",
    "\n",
    "$$t_d = \\left(\\frac{3}{4π} \\frac{\\kappa M}{vc} \\right)^{1/2}$$\n",
    "\n",
    "is the diffusion time. Here $\\kappa$ is the opacity and M is the total mass of ejected material, both assumed independent of time t."
   ]
  },
  {
   "cell_type": "markdown",
   "metadata": {},
   "source": [
    "### 1. Light curves for an initial explosion energy $E_0$\n",
    "This differential equation can be integrated for any energy injection function Q(t) describing how a supernova is powered:\n",
    "\n",
    "$$L(t) = \\frac{e^{-t^2/2t_d^2}}{t_d^2} \\int_0^t dt' t' e^{\\frac{t'^2}{2t_d^2}} Q(t')$$\n",
    "\n",
    "where we have used an initial condition of $L(0)=0$. Calculate the light curve of a supernova powered by an initial explosion energy $E_0$ which is deposited immediately in the ejecta at some initial time $t_0$, $Q(t)=E_0  \\delta(t-t_0)$, where $\\delta$ is the Dirac delta function.\n",
    "\n",
    "The following general integral solution may be helpful:\n",
    "\n",
    "$$\\int_0^t  dx \\cdot x \\cdot e^{\\frac{x^2}{b^2}} \\cdot \\delta(x-a) = a e^{\\frac{a^2}{b^2}}$$\n"
   ]
  },
  {
   "cell_type": "markdown",
   "metadata": {},
   "source": [
    "### 2. Plot the resulting light curve\n",
    "\n",
    "Using an explosion energy $E_0 = 10^{51}$ erg deposited at $t_0 = R/v$ with $R = 10^{14}$ cm, opacity $\\kappa = 0.4$ cm$^{2}$ g$^{-1}$, ejecta mass of $10 M_{\\rm Sun}$, and velocity $v = 10^4$ km s$^{-1}$, make a plot of your light curve filling in the template code below."
   ]
  },
  {
   "cell_type": "code",
   "execution_count": null,
   "metadata": {
    "scrolled": false
   },
   "outputs": [],
   "source": [
    "# calculate td in days\n",
    "v=1e9\n",
    "kappa=0.4\n",
    "Mej=10*2e33\n",
    "c=3e10\n",
    "\n",
    "td=np.sqrt(3./4./np.pi*kappa*Mej/v/c)/86400.\n",
    "\n",
    "E0=1e51\n",
    "t0=1e14/1e9/86400.\n",
    "\n",
    "# array of time values in units of days\n",
    "time=np.arange(50)/49.*100.\n",
    "\n",
    "# enter in your luminosity equation in terms of td below, using the time values. \n",
    "# You will want to take care that your units are in erg s^-1 and not erg d^-1!\n",
    "#L=your function of time, td\n"
   ]
  },
  {
   "cell_type": "markdown",
   "metadata": {},
   "source": [
    "### 3. Arnett's Law\n",
    "\n",
    "\"Arnett's Law\" provides a useful approximation for the peak luminosity $L_p$ of a supernova in terms of its observed time to peak, $t_p$, which is usually of order the diffusion time $t_d$:\n",
    "\n",
    "$$L_p = L(t_p) \\approx \\frac{U_{\\rm rad} (t_p)}{t_p}$$\n",
    "\n",
    "Compare the result from this approximation to your maximum value of $L_p$ calculated above, using that for adiabatic expansion \n",
    "\n",
    "$$U_{\\rm rad}(t) = \\frac{E_0 R_0}{vt}$$\n",
    "\n",
    "Using this estimate, what is the peak luminosity at t_p= 30 days for a Type Ia supernova (exploding white dwarf, $R_0 \\approx 10^9$  cm, $M_{\\rm ej} \\approx 1 M_{\\rm Sun}$) and a Type IIP supernova (exploding red supergiant, $R_0 \\approx 10^{14}$  cm, $M_{\\rm ej} \\approx 10 M_{\\rm Sun}$). \n",
    "\n",
    "Explain physically why the luminosity is so different in the two cases. Where does the explosion energy go when the luminosity is so low?"
   ]
  },
  {
   "cell_type": "code",
   "execution_count": null,
   "metadata": {},
   "outputs": [],
   "source": [
    "#use this cell as a calculator if you want\n"
   ]
  },
  {
   "cell_type": "markdown",
   "metadata": {},
   "source": [
    "# type your answer nicely in markdown here, then run the cell to make it display nicely"
   ]
  },
  {
   "cell_type": "markdown",
   "metadata": {},
   "source": [
    "### 4. Thermonuclear supernovae\n",
    "\n",
    "4. One alternative energy source for supernovae is radioactive decay of $^{56}$Ni, which can form in large quantities as a result of fusion reactions in a degenerate C/O white dwarf. The energy injection is then given by the half-life of radioactive decay,\n",
    "\n",
    "$$U_{\\rm rad}(t)= \\epsilon M_{\\rm Ni} c^2  e^{-t/t_{\\rm Ni}}$$\n",
    "\n",
    "where $M_{\\rm Ni}$ is the $^{56}$Ni mass, $t_{\\rm Ni} \\approx 6$ days is the half-life of $^{56}$Ni, and $\\epsilon \\approx 3 \\times 10^{-5}$ (2 MeV released as gamma rays when going from 56 Ni to 56 Co). What is the peak luminosity at 30 days if the entire $1 M_{\\rm Sun}$ white dwarf is made of $^{56}$Ni? Is this a plausible mechanism for powering a Type Ia supernova?"
   ]
  },
  {
   "cell_type": "code",
   "execution_count": null,
   "metadata": {},
   "outputs": [],
   "source": [
    "#use this cell as a calculator if you want\n"
   ]
  },
  {
   "cell_type": "markdown",
   "metadata": {},
   "source": [
    "# type your answer nicely in markdown here, then run the cell to make it display nicely"
   ]
  },
  {
   "cell_type": "code",
   "execution_count": null,
   "metadata": {},
   "outputs": [],
   "source": [
    "# run this cell to print out the plots\n",
    "\n",
    "d1 = Table.read('sn2012aw.csv')\n",
    "d2 = Table.read('sn2011fe_lc.csv')\n",
    "d3 = Table.read('sn2008es_lc.csv')\n",
    "\n",
    "colors=['C4','C0','C3']; labels=['U','B','V']\n",
    "\n",
    "for d,dmod,ymax,ymin,t0 in zip([d1,d2,d3],[30.3,27.8,40.],[-19.4,-19.,-24],[-12.,-12.,-16.],[56000,55800,54600]):\n",
    "    plt.figure(figsize=(5,4))\n",
    "    ax = plt.gca()\n",
    "    ax.xaxis.set_tick_params(labelsize=14)\n",
    "    ax.yaxis.set_tick_params(labelsize=14)\n",
    "    plt.xlabel('time since discovery (days)',fontsize=16); plt.ylabel(r'absolute magnitude $M$',fontsize=16)\n",
    "    for l,c in zip(labels,colors):\n",
    "        select=(d['band']==l) & (d['upperlimit']=='F')\n",
    "        plt.plot(d['time'][select]-t0,d['magnitude'][select]-dmod,marker='o',linestyle='',color=c,label=l)\n",
    "        plt.ylim(ymin,ymax); plt.xlim(-20,150)\n",
    "        plt.legend(fontsize=14)"
   ]
  },
  {
   "cell_type": "markdown",
   "metadata": {},
   "source": [
    "### 5. Observed optical light curves\n",
    "\n",
    "The figures above show the light curves (bolometric luminosity vs time) for 3 supernovae in the optical UBVR bands. Measure by eye the approximate duration of the events and peak luminosities in each case (converting from absolute magnitude to luminosity, ie $M = -2.5 \\mathrm{log_{10}}(L / L_0)$ with $L_0 = 3 \\times 10^{35} erg/s$ -- and it may be useful to note that the Sun has an absolute magnitude of $M \\simeq 4.8$ in these bands).\n",
    "\n",
    "Use the below template below to make a plot of peak luminosity vs. (approximate) duration for these 3 objects. "
   ]
  },
  {
   "cell_type": "code",
   "execution_count": null,
   "metadata": {},
   "outputs": [],
   "source": [
    "plt.figure(figsize=(5,4))\n",
    "ax = plt.gca()\n",
    "ax.xaxis.set_tick_params(labelsize=14)\n",
    "ax.yaxis.set_tick_params(labelsize=14)\n",
    "plt.xlabel('duration (days)',fontsize=16); plt.ylabel(r'luminosity at peak $L_p$ (erg s$^{-1}$)',fontsize=16)\n",
    "\n",
    "# enter in your durations and peak luminosities below!\n",
    "tp = []; Lp = []\n",
    "plt.loglog(tp,Lp,marker=\"x\",markersize=10,markeredgecolor=\"red\")\n",
    "plt.ylim(1e40,1e45)\n",
    "plt.xlim(1,1e3)"
   ]
  },
  {
   "cell_type": "markdown",
   "metadata": {},
   "source": [
    "### 6. Which ones could be powered by an initial explosion energy $E_0 \\approx 10^{51}$ erg or radioactive decay of $^{56}$Ni at their peak, and why? \n",
    "\n",
    "It might help to add contours to the plot above indicating the regions where different $E_0$ / $M_{Ni}$ values lie to more definitively support your answers.\n",
    "\n",
    "#### OPTIONAL:\n",
    "\n",
    "Try searching the internet for \"superluminous supernova\" -- by clicking one journal article link and looking at the Introduction, what is one energy source that has been proposed to power supernovae that are unlikely to result from an initial explosion energy or radioactive decay?"
   ]
  },
  {
   "cell_type": "markdown",
   "metadata": {},
   "source": [
    "## type your answer nicely in markdown here, then run the cell to make it display nicely"
   ]
  }
 ],
 "metadata": {
  "kernelspec": {
   "display_name": "Python 3",
   "language": "python",
   "name": "python3"
  },
  "language_info": {
   "codemirror_mode": {
    "name": "ipython",
    "version": 3
   },
   "file_extension": ".py",
   "mimetype": "text/x-python",
   "name": "python",
   "nbconvert_exporter": "python",
   "pygments_lexer": "ipython3",
   "version": "3.6.13"
  }
 },
 "nbformat": 4,
 "nbformat_minor": 2
}
