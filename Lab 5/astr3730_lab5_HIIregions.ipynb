{
 "cells": [
  {
   "cell_type": "code",
   "execution_count": 3,
   "metadata": {
    "scrolled": false
   },
   "outputs": [],
   "source": [
    "%matplotlib inline\n",
    "import matplotlib.pyplot as plt\n",
    "import numpy as np"
   ]
  },
  {
   "cell_type": "markdown",
   "metadata": {},
   "source": [
    "# Lab 5 -- Nebular HII regions\n",
    "\n",
    "In this lab we will explore the physics of photoionized regions, which are seen surrounding newly formed stars or white dwarfs."
   ]
  },
  {
   "cell_type": "markdown",
   "metadata": {},
   "source": [
    "### 1. Strömgren sphere of ionized gas surrounding a massive star\n",
    "\n",
    "Consider a newly formed massive star radiating a total ionizing ($h\\nu > 13.6 \\, \\rm eV$) photon rate of $Q_*$, which is surrounded by a medium with hydrogen number density $n_H$. \n",
    "\n",
    "Assume that within some spherical volume (the \"Strömgren sphere\"), the hydrogen atoms absorb (and are ionized by) every single one of these photons, resulting in an entirely ionized gas, while outside of this volume the gas is entirely neutral. By setting the ionization and recombination rates equal within that volume, calculate its radius $R_{\\rm st}$ (the \"Strömgren radius\"). \n",
    "\n",
    "$[\\textit{Hint: } \\textrm{What are the units of Q? What about the units of recombination rate?}]$\n",
    "$[\\textrm{If every photon in the inner region results in an ionization what is the ionization rate?}]$\n",
    "\n",
    "Like in the pre-lab video, you can write the result in terms of the hydrogen recombination coefficient, $\\alpha_H$. Do your scalings of the Strömgren radius with $Q_*$ and $n_H$ make sense?"
   ]
  },
  {
   "cell_type": "markdown",
   "metadata": {},
   "source": [
    "### Calculation of $Q_\\star$ and $R_{st}$\n",
    "\n",
    "From the pre-lab video:\n",
    "$$\n",
    "Q_\\star = \\frac{8\\pi^2R^2}{c^2}\\left(\\frac{kT}{h}\\right)^3e^{-u_i}(2+2u_i+u_i^2)\n",
    "$$\n",
    "where\n",
    "$$\n",
    "u_i = \\frac{h\\nu_i}{kT}\n",
    "$$\n",
    "\n",
    "__What are the units of Q?__\n",
    "\n",
    ">The two terms comprising $u_i$ are in units of $erg$ so their ratio is dimensionless. This makes the expression $e^{-u_i}(2+2u_i+u_i^2)$ dimensionless also.\n",
    "The term: $\\frac{8\\pi^2R^2}{c^2}$ works out to units of $s^{2}$; the ratio: $\\left(\\frac{kT}{h}\\right)^3$ works out to $\\frac{erg^3}{erg^3s^3}$ or $s^{-3}$.\n",
    "The product of these three terms is then $s^{-1}$ which implies that $Q_*$ is in units of $\\# s^{-1}$ or particles per second.\n",
    "\n",
    "__What about the units of recombination rate?__\n",
    "\n",
    ">Recombination Rate:\n",
    "$$\n",
    "\\mathscr{R}_{rec} = n_e n X \\alpha_i^\\beta(T)\n",
    "$$\n",
    ">where both $n_e$ and $n$ are both number densities (units = $cm^{-3}$) so their product has units of $cm^{-6}$; X is a dimensionless fraction and $\\alpha_i^\\beta(T)$ returns a quantity in $cm^3s^{-1}$ (See Maoz, page 123). Then $\\mathscr{R_{rec}}$ has units of $cm^{-3} s^{-1}$, i.e. a number density.\n",
    "\n",
    "__If every photon in the inner region results in an ionization what is the ionization rate?__\n",
    "\n",
    ">$Q_\\star$ is the rate of generation of photons with sufficient energy to cause ionization. If every photon gets absorbed and therefore ionizes that which absorbed it, then the ionization rate is equal to the photon generation rate.  In other words the ionization rate is $Q_\\star$\n",
    "\n",
    "### Calculation of Stromgren Sphere Radius $R_{st}$\n",
    "\n",
    "Within the _Stromgren Sphere_ every photon that is emitted by the central star ionizes a hydrogen atom, whose newly freed electron recombines with a previously ionized atom. Therefore the rate of electrons recombining must equal the number of photons being emitted per unit of time if the sphere is to remain in equilibrium.\n",
    "The recominbination rate is: $\\mathscr{R} = n_e n X \\alpha_i^\\beta(T)$ which is a _density_, i.e. recombinations per unit time per unit volume.  This density needs to be multiplied by the volume of the _Stromgren Sphere_ to get the _total_ rate of recombinations which can then be set to the (total) rate of photon generation $Q_\\star$.\n",
    "Thus:\n",
    "$$\n",
    "\\begin{align}\n",
    "Q_\\star &= V  \\mathscr{R} \\\\\n",
    "&= \\frac{4}{3}\\pi R_{st}^3 n_e n X \\alpha_i^\\beta(T)\n",
    "\\end{align}\n",
    "$$\n",
    "\n",
    "Since we're assuming pure Hydrogen, the number of electrons $n_e$ equals the number of ions (protons) $n$. Then the equation above can be solved for $R_{st}$ and written as:\n",
    "$$\n",
    "R_{st} = \\left( \\frac{3Q_\\star} {4\\pi n^2 \\alpha_i^\\beta(T)} \\right)^{\\frac{1}{3}}\n",
    "$$\n",
    "\n",
    "__Do your scalings of the Strömgren radius with $Q_*$ and $n_H$ make sense?__\n",
    "\n",
    ">Stromgren Radius $R_{st}$ scales with $Q_{\\star}^\\frac{1}{3}$ meaning the higher the photon generation and recombination rate, the radius of the sphere increases by the cube root.  This make sense (to me!) since more photons will require more particles thus more volume thus more radius to absorb them. The addional particles will come at a raidus that is greater than the initial radius.\n",
    "\n",
    "\n",
    "\n",
    ">The Stromgren Radius scales inversely with the square of the particle density ($n$).  This also makes intuitive sense as an increased particle density implies that a smaller volume and thus smaller radius will contain sufficient number of particles to absorb a given photon emission rate $Q_{\\star}$."
   ]
  },
  {
   "cell_type": "code",
   "execution_count": 6,
   "metadata": {},
   "outputs": [],
   "source": [
    "\n",
    "#constants and conversions:\n",
    "h = 6.626e-27 # erg s\n",
    "eV = 1.602e-12 # erg per eV\n",
    "c = 2.998e10 #cm s^-1\n",
    "#boltzmann's constant\n",
    "k =\t1.3807e-16 # cm2 g s-2 K-1 (erg K-1)\n",
    "angstrom_per_cm = 10e8\n",
    "pc_per_cm = 3.24078e-19\n",
    "\n",
    "def calculate_u_i(nu_i, T):\n",
    "    \"\"\"\n",
    "    nu_i in hz; T in Kelvin\n",
    "    \"\"\"\n",
    "    return h*nu_i/(k*T)\n",
    "\n",
    "\n",
    "def Q_star(T, R, ionization_energy = 13.6):\n",
    "\n",
    "    #calc the ionization frequency:\n",
    "    photon_e = ionization_energy * eV\n",
    "    nu_i =  photon_e /h #ionization freq in hertz\n",
    "\n",
    "    u_i = calculate_u_i(nu_i, T)\n",
    "\n",
    "    term1 = 8*np.pi**2*R**2/c**2\n",
    "    term2 = np.power(k*T/h, 3.0)\n",
    "    term3 = np.exp(-u_i)*(2+2*u_i+u_i**2)\n",
    "\n",
    "    #print(f'nu_i:{nu_i:.0f}, u_i: {u_i:.0f}')\n",
    "    #print(f'term1: {term1}, term2: {term2}, term3: {term3}')\n",
    "\n",
    "    q_star = term1*term2*term3\n",
    "\n",
    "    return q_star\n",
    "\n",
    "def stromgren_radius(R,T,  q_star = None, ionization_energy = 13.6,  particle_rho = 1e2, alpha = 3.3e-13):\n",
    "\n",
    "    numerator = 3*(q_star if q_star is not None else Q_star(R=R, T=T, ionization_energy=ionization_energy))\n",
    "    denominator = 4*np.pi*particle_rho**2*alpha\n",
    "    r_st = np.power(numerator/denominator, 1.0/3.0)\n",
    "\n",
    "    return r_st\n",
    "\n",
    "def mean_free_path(sigma, particle_rho):\n",
    "    mfp = 1.0/(sigma*particle_rho)\n",
    "    return mfp\n"
   ]
  },
  {
   "cell_type": "markdown",
   "metadata": {},
   "source": [
    "### 2. Typical size of a photoionized nebula\n",
    "\n",
    "Assuming a star of effective (surface) temperature $T = 3\\times10^4$ K and radius $R = 2\\times10^{11}$ cm, use the approximate expression from the pre-lab video to calculate the integrated ionizing photon rate $Q_*$ for hydrogen, with ionization energy of $h \\nu_i = 13.6$ eV.\n",
    "\n",
    "Then assuming $n_H = 10^2 \\, \\rm cm^{-3}$ and $\\alpha_H = 3.3\\times10^{-13} \\, \\rm cm^3 \\, \\rm s^{-1}$, calculate the Strömgren radius. How large is the ionized nebula compared to the size of the massive star? How about compared to the width of a Galactic spiral arm of $\\simeq 1$ kpc?\n"
   ]
  },
  {
   "cell_type": "code",
   "execution_count": 13,
   "metadata": {},
   "outputs": [
    {
     "name": "stdout",
     "output_type": "stream",
     "text": [
      "Q_star: 1.79e+47 particles per second\n",
      "Ionized nebula is 1.17e+07 times as big (in radius) as the massive star\n",
      "r_st: 2.35e+18 cm, or 0.76 pc, which is 0.08 % spiral arm\n"
     ]
    }
   ],
   "source": [
    "R = 2e11\n",
    "\n",
    "q_star = Q_star(R=R,T=3e4, ionization_energy=13.6)\n",
    "print(f'Q_star: {q_star:.2e} particles per second')\n",
    "\n",
    "r_st = stromgren_radius(T=3e4, R=R, ionization_energy=13.6, particle_rho=1e2, alpha=3.3e-13)\n",
    "r_st_pc = r_st*pc_per_cm\n",
    "\n",
    "print(f'Ionized nebula is {r_st/R:.2e} times as big (in radius) as the massive star')\n",
    "print(f'r_st: {r_st:.2e} cm, or {r_st_pc:.2f} pc, which is {100.0*r_st_pc/1000.0:.2f} % spiral arm')"
   ]
  },
  {
   "cell_type": "markdown",
   "metadata": {},
   "source": [
    "### 3. Thickness of the transition from ionized to neutral\n",
    "\n",
    "The thickness of the boundary where the gas goes from nearly fully ionized to neutral can be estimated as the mean free path of an ionizing photon in the neutral region. Using $\\sigma_0 = 6.3 \\times 10^{-18} \\, \\rm cm^2$, calculate this width and compare with your value of $R_{\\rm st}$ from part 2.\n",
    "\n",
    "How does the result compare to the assumption above of a very sharp transition from fully ionized to neutral gas?"
   ]
  },
  {
   "cell_type": "code",
   "execution_count": 5,
   "metadata": {},
   "outputs": [
    {
     "name": "stdout",
     "output_type": "stream",
     "text": [
      "Mean Free Path: 1.59e+15 cm, which is 0.07% of the Stromgren Radius\n"
     ]
    }
   ],
   "source": [
    "mfp = mean_free_path(sigma=6.3e-18, particle_rho =  1e2)\n",
    "\n",
    "print(f'Mean Free Path: {mfp:.2e} cm, which is {100.0*(mfp/r_st):.2f}% of the Stromgren Radius')"
   ]
  },
  {
   "cell_type": "markdown",
   "metadata": {},
   "source": [
    "__How does the result compare to the assumption above of a very sharp transition from fully ionized to neutral gas?__\n",
    "> The mean free path is less that one-tenth of one percent of the radius of the Stromgren Sphere. This suggests a __very sharp__ boundry of the sphere."
   ]
  },
  {
   "cell_type": "markdown",
   "metadata": {},
   "source": [
    "### 4. Relative size of hydrogen and helium ionization zones\n",
    "\n",
    "Using the Strömgren sphere model, calculate the ratio of the radius of a helium to hydrogen ionization zone in terms of their relative number of ionizing photons $Q_{\\rm H}$ and $Q_{\\rm He}$ and composition parameters $X$ and $Y$.\n",
    "\n",
    "Calculate this ratio for the first ionization state of helium for the assumed massive star properties above, with $n_H = 10^2\\ cm^{-3}$, $X = 3/4$, $Y = 1/4$, and noting that the ionization energy is $h \\nu_i = 24.6$ eV."
   ]
  },
  {
   "cell_type": "code",
   "execution_count": 14,
   "metadata": {},
   "outputs": [
    {
     "name": "stdout",
     "output_type": "stream",
     "text": [
      "Pure Helium photon generation rate: 7.07e+45 sec^-1, Hydrogen rate: 1.79e+47 sec^-1, ratio: 0.04\n",
      "Stromgren Radius Pure Helium: 1.66e+18 cm, Pure Hydrogen: 2.34e+18 cm, ratio: 0.71\n",
      "Q_star_mix: 1.36e+47 sec^-1, r_st_mix: 2.14e+18, r_st_mix2: 2.14e+18\n"
     ]
    }
   ],
   "source": [
    "# assumed parameters:\n",
    "T = 30000.0 # K\n",
    "R = 2e11 # cm\n",
    "alpha =  3.33e-13\n",
    "\n",
    "#abundances:\n",
    "X=3.0/4.0; Y = 1.0/4.0\n",
    "n_h = 1e2\n",
    "\n",
    "\n",
    "# hydrogen and helium mixture: weight the particle density by the ratio of the abundances\n",
    "q_star_helium = Q_star(T=T, R=R, ionization_energy = 24.6)\n",
    "r_st_helium = stromgren_radius(R=R, T=T, ionization_energy = 24.6, alpha=alpha, particle_rho=n_h*Y/X )\n",
    "\n",
    "#pure hydrogen\n",
    "q_star_hydrogen = Q_star(T=T, R=R, ionization_energy = 13.6)\n",
    "r_st_hydrogen = stromgren_radius(R=R, T=T, ionization_energy = 13.6, alpha=alpha, particle_rho=n_h )\n",
    "\n",
    "print(f'Pure Helium photon generation rate: {q_star_helium:.2e} sec^-1, Hydrogen rate: {q_star_hydrogen:.2e} sec^-1, ratio: {q_star_helium/q_star_hydrogen:.2f}')\n",
    "print(f'Stromgren Radius Pure Helium: {r_st_helium:.2e} cm, Pure Hydrogen: {r_st_hydrogen:.2e} cm, ratio: {r_st_helium/r_st_hydrogen:.2f}')\n",
    "\n"
   ]
  },
  {
   "cell_type": "markdown",
   "metadata": {},
   "source": [
    "### 5. Comparison to output from a numerical calculation with the Cloudy code\n",
    "\n",
    "Compare your results with the same problem as run using the Cloudy photoionization code, which tracks in detail the ionization state and temperature of the nebula. \n",
    "\n",
    "1) Fill in your values for the Strömgren radius below to plot your expected locations for a drop from full to zero ionization on the plot below.\n",
    "\n",
    "2) How well does the Strömgren sphere assumption work?\n",
    "\n",
    "Surprisingly well!"
   ]
  },
  {
   "cell_type": "code",
   "execution_count": 15,
   "metadata": {},
   "outputs": [
    {
     "data": {
      "text/plain": [
       "<matplotlib.legend.Legend at 0x21830d3ed60>"
      ]
     },
     "execution_count": 15,
     "metadata": {},
     "output_type": "execute_result"
    },
    {
     "data": {
      "image/png": "[encoded data removed]",
      "text/plain": [
       "<Figure size 576x432 with 1 Axes>"
      ]
     },
     "metadata": {
      "needs_background": "light"
     },
     "output_type": "display_data"
    }
   ],
   "source": [
    "# FILL IN YOUR VALUES FOR RSTROM HERE\n",
    "rstrom_H =  r_st_hydrogen # change this to your calculated value for Hydrogen above\n",
    "rstrom_He = r_st_helium # change this to your calculated value for Helium above\n",
    "\n",
    "# load Cloudy output data\n",
    "r,xH,xHe,xHe2 = np.load('cloudy_hii_example_Rx.npy')\n",
    "\n",
    "# make a plot of ionization fractions\n",
    "plt.figure(figsize=(8,6))\n",
    "plt.plot(r/3.09e18,xH,label='hydrogen',color='C0')\n",
    "plt.plot(r/3.09e18,xHe,label='helium',color='k')\n",
    "plt.plot(rstrom_H/3.09e18+np.zeros(50),np.arange(50)/49.,color='C0',linestyle='--')\n",
    "plt.plot(rstrom_He/3.09e18+np.zeros(50),np.arange(50)/49.,color='k',linestyle='--')\n",
    "ax = plt.gca()\n",
    "ax.xaxis.set_tick_params(labelsize=14)\n",
    "ax.yaxis.set_tick_params(labelsize=14)\n",
    "plt.xlabel('radius $r$ (pc)',fontsize=16); plt.ylabel(r'ionization fraction $x$',fontsize=16)\n",
    "plt.legend(frameon=True,fontsize=14)"
   ]
  },
  {
   "cell_type": "markdown",
   "metadata": {},
   "source": [
    "### 6. Nebular spectrum\n",
    "\n",
    "Cloudy also calculates the observed spectrum from the nebula, including both the initial stellar spectrum (here a Planck spectrum $B_\\nu (T)$ with $T = 3\\times10^4$ K) and the additional radiation from the ionized gas in the nebula.\n",
    "\n",
    "What are the major differences between the incident (stellar) spectrum, and the observed one from the entire nebula? Why is the high energy flux of the star greatly reduced in the observed spectrum? Where did that energy go?\n",
    "\n",
    "Comment on any radiation processes (emission or absorption) that you think might be contributing to the shape of the observed nebula spectrum.\n"
   ]
  },
  {
   "cell_type": "code",
   "execution_count": 38,
   "metadata": {},
   "outputs": [
    {
     "name": "stdout",
     "output_type": "stream",
     "text": [
      "Ionization Frequency H: 3.29e+15 Hz, Ionization Frequency Helium: 5.95e+15 Hz\n"
     ]
    }
   ],
   "source": [
    "#get the emission freqs\n",
    "def emission_freq(ionization_energy):\n",
    "    \"\"\"\n",
    "    ionization energy in eV\n",
    "    \"\"\"\n",
    "    #constants and conversions:\n",
    "    h = 6.626e-27 # erg s\n",
    "    erg_per_eV = 1.602e-12 # erg per eV\n",
    "    c = 2.998e10 #cm s^-1\n",
    "    angstrom_per_cm = 10e8\n",
    "\n",
    "    ion_erg = ionization_energy*erg_per_eV # now in erg\n",
    "    ion_freq = ion_erg/h # sec^-1\n",
    "    ion_lambda = (c/ion_freq)*angstrom_per_cm # in angstrom\n",
    "\n",
    "    return ion_freq, ion_lambda\n",
    "\n",
    "hydrogen_nu, hydrogen_lambda = emission_freq(13.6)\n",
    "helium_nu, helium_lambda = emission_freq(24.6)\n",
    "\n",
    "print(f'Ionization Frequency H: {hydrogen_nu:.2e} Hz, Ionization Frequency Helium: {helium_nu:.2e} Hz')"
   ]
  },
  {
   "cell_type": "code",
   "execution_count": 39,
   "metadata": {},
   "outputs": [
    {
     "data": {
      "text/plain": [
       "(1000000000000.0, 2e+16)"
      ]
     },
     "execution_count": 39,
     "metadata": {},
     "output_type": "execute_result"
    },
    {
     "data": {
      "image/png": "[encoded data removed]",
      "text/plain": [
       "<Figure size 576x432 with 1 Axes>"
      ]
     },
     "metadata": {
      "needs_background": "light"
     },
     "output_type": "display_data"
    }
   ],
   "source": [
    "# load Cloudy output data\n",
    "nu,Fnu_trans,Fnu_diff,Fnu_inc = np.load('cloudy_hii_example_spec.npy')\n",
    "\n",
    "# make a plot of the stellar (blue) and observed (black) spectra\n",
    "# include ionization frequencies for H and He\n",
    "fig = plt.figure(figsize=(8,6))\n",
    "ax = fig.add_subplot()\n",
    "ax.loglog(nu,Fnu_inc,label='stellar spectrum',color='C0')\n",
    "ax.loglog(nu,Fnu_trans,label='nebula spectrum',color='k')\n",
    "\n",
    "ax.axvline(hydrogen_nu, color='red', ls=':', lw=3, label='H ion freq')\n",
    "ax.axvline(helium_nu, color='orange', ls=':', lw=3, label='He ion freq')\n",
    "\n",
    "ax.xaxis.set_tick_params(labelsize=14)\n",
    "ax.yaxis.set_tick_params(labelsize=14)\n",
    "ax.set_xlabel(r'frequency $\\nu$ (Hz)',fontsize=16); ax.set_ylabel(r'observed flux $F_\\nu$ (Jy)',fontsize=16)\n",
    "ax.legend(frameon=True,fontsize=14)\n",
    "ax.set_ylim(1e-6,1e4); ax.set_xlim(1e12,2e16)"
   ]
  },
  {
   "cell_type": "markdown",
   "metadata": {},
   "source": [
    "__What are the major differences between the incident (stellar) spectrum, and the observed one from the entire nebula?__\n",
    "\n",
    ">Stellar spectrum shows no spectral features beyond having shape of a Planck curve -- because it was generated by formula rather than observed.  It shows a peak flux at approximately $\\nu = 2\\times10^{15}\\ Hz$ and drops off rapidly (Wein Tail) there after.\n",
    "\n",
    ">The nebula spectrum shows many emission lines below $\\nu = 10^{15}\\ Hz$, and a large absorption line at the ionization frequency of Hydrogen: $\\nu = 3.29\\times 10^{15} Hz$.\n",
    "\n",
    "\n",
    "__Why is the high energy flux of the star greatly reduced in the observed spectrum? Where did that energy go?__\n",
    "\n",
    ">The star is emitting photons at the Hydrogen ionization frequency -- the star's peak flux is near the ionization frequency. These photons are absorbed by the surrounding cloud (the nebula) as evidenced by the absorption line in the figure.   These photons excite (heat up) the other particles in the gas causing them to emit their own photons at their respective quantum frequencies. The figure suggests the cloud is made up largely of hydrogen (the large absorption line), some helium (somewhat large emission line at the He emission frequency) and a small proportion of metals (small-ish emission lines at lower frequencies).\n",
    "\n",
    "__Comment on any radiation processes (emission or absorption) that you think might be contributing to the shape of the observed nebula spectrum.__\n",
    "\n",
    "> The width of the absorption feature near the Hydrogen ionization frequency that the nebula is in a highly turbulent state."
   ]
  },
  {
   "cell_type": "code",
   "execution_count": null,
   "metadata": {},
   "outputs": [],
   "source": []
  }
 ],
 "metadata": {
  "interpreter": {
   "hash": "9a63a23aa8f0c95be58cce50c14032e29289dd9e7f4ab6c5fb465f3819b93d42"
  },
  "kernelspec": {
   "display_name": "Python 3.9.7 64-bit ('astro': conda)",
   "name": "python3"
  },
  "language_info": {
   "codemirror_mode": {
    "name": "ipython",
    "version": 3
   },
   "file_extension": ".py",
   "mimetype": "text/x-python",
   "name": "python",
   "nbconvert_exporter": "python",
   "pygments_lexer": "ipython3",
   "version": "3.9.7"
  }
 },
 "nbformat": 4,
 "nbformat_minor": 2
}
